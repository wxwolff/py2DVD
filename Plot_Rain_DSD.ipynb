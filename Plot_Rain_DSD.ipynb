{
 "cells": [
  {
   "cell_type": "code",
   "execution_count": null,
   "id": "e3f4b362-e401-4069-ac29-55b5acd2bae8",
   "metadata": {},
   "outputs": [],
   "source": [
    "import os, sys, glob\n",
    "import numpy as np\n",
    "import pandas as pd\n",
    "import seaborn as sns\n",
    "from datetime import datetime, timedelta\n",
    "import matplotlib.pyplot as plt\n",
    "import math\n",
    "from zipfile import ZipFile\n",
    "import plot_2dvd as pltvd\n",
    "import twodvd as vd\n",
    "import warnings\n",
    "warnings.filterwarnings(\"ignore\")\n",
    "##############################################################################################\n",
    "if __name__ == \"__main__\":\n",
    "\n",
    "    campaign = 'WFF'\n",
    "    instrument = '2dvd_sn70'\n",
    "    year  = 2019\n",
    "    month = 7\n",
    "    day   = 18\n",
    "    syear  = str(year).zfill(4)\n",
    "    smonth = str(month).zfill(2)\n",
    "    sday   = str(day).zfill(2)\n",
    "\n",
    "    # CSV/2019-07/WFF_2dvd_sn70_V19199.drops_DSD.csv\n",
    "    rain_dir = 'CSV/' + syear + '-' + smonth + '/'\n",
    "    rain_file = f\"{rain_dir}/{campaign}_{instrument}_{syear}_{smonth}{sday}_rain.csv\"\n",
    "    print(f\"<-- {rain_file}\")\n",
    "    #fileb = os.path.basename(rain_file)[:-9]\n",
    "    #print(fileb)\n",
    "    rain_df = pd.read_csv(rain_file, index_col=0)\n",
    "    rain_df.index.name = 'DateTime'\n",
    "\n",
    "    # CSV/2019-07/WFF_2dvd_sn70_V19199.drops_DSD.csv\n",
    "    dsd_dir = 'CSV/' + syear + '-' + smonth + '/'\n",
    "    dsd_file = f\"{dsd_dir}/{campaign}_{instrument}_{syear}_{smonth}{sday}_DSD.csv\"\n",
    "    print(f\"<-- {dsd_file}\")\n",
    "    #fileb = os.path.basename(rain_file)[:-9]\n",
    "    #print(fileb)\n",
    "    dsd_df = pd.read_csv(dsd_file, index_col=0)\n",
    "    dsd_df.index.name = 'DateTime'\n",
    "    \n",
    "    # Get list of D/V pairs from Table\n",
    "    parm_file = 'Tables/2dvd_diameter_50.txt'\n",
    "    #print(f\"Reading parms file: {parm_file}\")\n",
    "    dv_parms = vd.get_2dvd_drop_velocity_parms(parm_file)\n",
    "    print()\n",
    "    \n",
    "    pltvd.plot_rain_parms(rain_df, campaign, instrument, savefig=True)\n",
    "    \n",
    "    pltvd.plot_dsd_mesh(dsd_df, dv_parms, campaign, instrument, savefig=True)\n",
    "    \n",
    "    print(\"Done.\")"
   ]
  },
  {
   "cell_type": "code",
   "execution_count": null,
   "id": "865bbabe-4115-41cb-adb3-fd5d75b085bd",
   "metadata": {},
   "outputs": [],
   "source": []
  },
  {
   "cell_type": "code",
   "execution_count": null,
   "id": "43999ecb-4a0a-4fdc-9baa-2f7727f62745",
   "metadata": {},
   "outputs": [],
   "source": []
  },
  {
   "cell_type": "code",
   "execution_count": null,
   "id": "b9510553-4a2c-4911-b69e-654b8be64ed3",
   "metadata": {},
   "outputs": [],
   "source": []
  },
  {
   "cell_type": "code",
   "execution_count": null,
   "id": "7e73f8ad-139c-4237-97c9-09ee0e9f8e41",
   "metadata": {},
   "outputs": [],
   "source": []
  },
  {
   "cell_type": "code",
   "execution_count": null,
   "id": "3625d5f6-bbff-4c5c-9218-fa8dc949d354",
   "metadata": {},
   "outputs": [],
   "source": []
  }
 ],
 "metadata": {
  "kernelspec": {
   "display_name": "Python 3 (ipykernel)",
   "language": "python",
   "name": "python3"
  },
  "language_info": {
   "codemirror_mode": {
    "name": "ipython",
    "version": 3
   },
   "file_extension": ".py",
   "mimetype": "text/x-python",
   "name": "python",
   "nbconvert_exporter": "python",
   "pygments_lexer": "ipython3",
   "version": "3.8.16"
  }
 },
 "nbformat": 4,
 "nbformat_minor": 5
}
